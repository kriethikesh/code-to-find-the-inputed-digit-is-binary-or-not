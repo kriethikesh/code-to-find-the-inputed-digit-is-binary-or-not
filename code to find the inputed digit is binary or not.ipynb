{
  "nbformat": 4,
  "nbformat_minor": 0,
  "metadata": {
    "colab": {
      "provenance": []
    },
    "kernelspec": {
      "name": "python3",
      "display_name": "Python 3"
    },
    "language_info": {
      "name": "python"
    }
  },
  "cells": [
    {
      "cell_type": "code",
      "source": [
        "#code to find the inputed digit is binary or not"
      ],
      "metadata": {
        "id": "MZmPYzyBk1qY"
      },
      "execution_count": 3,
      "outputs": []
    },
    {
      "cell_type": "code",
      "source": [
        "x=int(input(\"enter a digit\"))\n",
        "if x==0 or x==1:\n",
        "  print(x,\"is binary digit\")\n",
        "else:\n",
        "  print(x,\"is not binary digit\")"
      ],
      "metadata": {
        "id": "5d1fbSBrlFGu"
      },
      "execution_count": null,
      "outputs": []
    }
  ]
}